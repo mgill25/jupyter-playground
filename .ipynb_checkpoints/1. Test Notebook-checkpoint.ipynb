{
 "cells": [
  {
   "cell_type": "markdown",
   "metadata": {},
   "source": [
    "# Test Notebook"
   ]
  },
  {
   "cell_type": "code",
   "execution_count": 1,
   "metadata": {},
   "outputs": [
    {
     "name": "stdout",
     "output_type": "stream",
     "text": [
      "Hello, Jupyter\n"
     ]
    }
   ],
   "source": [
    "print(\"Hello, Jupyter\")"
   ]
  },
  {
   "cell_type": "code",
   "execution_count": 27,
   "metadata": {},
   "outputs": [],
   "source": [
    "# I've played a decent amount on Jupyter notebooks, but never consistently.\n",
    "# Perhaps it's time to take this coding environment a bit more seriously.\n",
    "\n",
    "# Fibonacci\n",
    "\n",
    "def memoize(func):\n",
    "    memo = {}\n",
    "    def inner(*args, **kwargs):\n",
    "        key = f\"{str(args)}-{str(kwargs)}\"\n",
    "        if key not in memo:\n",
    "            memo[key] = func(*args, **kwargs)\n",
    "        return memo[key]\n",
    "    return inner"
   ]
  },
  {
   "cell_type": "code",
   "execution_count": 37,
   "metadata": {},
   "outputs": [],
   "source": [
    "def fib(x):\n",
    "    if x <= 1: return 1\n",
    "    return fib(x - 1) + fib(x - 2)"
   ]
  },
  {
   "cell_type": "code",
   "execution_count": 38,
   "metadata": {},
   "outputs": [],
   "source": [
    "@memoize\n",
    "def fibfast(x):\n",
    "    if x <= 1: return 1\n",
    "    return fibfast(x - 1) + fibfast(x - 2)"
   ]
  },
  {
   "cell_type": "code",
   "execution_count": 45,
   "metadata": {},
   "outputs": [
    {
     "name": "stdout",
     "output_type": "stream",
     "text": [
      "29.3 µs ± 788 ns per loop (mean ± std. dev. of 4 runs, 100 loops each)\n"
     ]
    }
   ],
   "source": [
    "%%timeit -r 4 -n 100\n",
    "for i in range(25): fibfast(i)"
   ]
  },
  {
   "cell_type": "code",
   "execution_count": 46,
   "metadata": {},
   "outputs": [
    {
     "name": "stdout",
     "output_type": "stream",
     "text": [
      "40.2 ms ± 689 µs per loop (mean ± std. dev. of 4 runs, 100 loops each)\n"
     ]
    }
   ],
   "source": [
    "%%timeit -r 4 -n 100\n",
    "for i in range(25): fib(i)"
   ]
  },
  {
   "cell_type": "markdown",
   "metadata": {},
   "source": [
    "## Maximum Subarray Sum Algorithm"
   ]
  },
  {
   "cell_type": "markdown",
   "metadata": {},
   "source": [
    "### Kadane's Algorithm"
   ]
  },
  {
   "cell_type": "code",
   "execution_count": 54,
   "metadata": {},
   "outputs": [
    {
     "name": "stdout",
     "output_type": "stream",
     "text": [
      "7\n"
     ]
    }
   ],
   "source": [
    "# Question: Given an array of integers, find the subarray with the maximum contiguous sum\n",
    "\n",
    "# Example: [1, 2, -1, 4, -2, 5]\n",
    "# Ans = 7, because [4, -2, 5] is the subarray with the maximum sum\n",
    "\n",
    "import math\n",
    "\n",
    "def max_subarray_sum(arr):\n",
    "    # Kadane's Algorithm\n",
    "    global_sum = -math.inf\n",
    "    sum_so_far = 0\n",
    "    for elem in arr:\n",
    "        # Keep adding numbers as we iterate, but reset to 0 if we go negative\n",
    "        sum_so_far = max(0, sum_so_far + elem)\n",
    "        # Update the global sum if it's greater than the one seen before\n",
    "        global_sum = max(sum_so_far, global_sum)\n",
    "    return global_sum\n",
    "input_arr = [-2, -5, 6, -2, -3, 1, 5, -6]\n",
    "print(max_subarray_sum(input_arr))"
   ]
  },
  {
   "cell_type": "markdown",
   "metadata": {},
   "source": [
    "### Max Subarray using Prefix Sums"
   ]
  },
  {
   "cell_type": "code",
   "execution_count": 65,
   "metadata": {},
   "outputs": [
    {
     "name": "stdout",
     "output_type": "stream",
     "text": [
      "prefix sums = [-2, -7, -1, -3, -6, -5, 0, -6]\n",
      "7\n",
      "prefix sums = [-2, -3, -5, -4]\n",
      "1\n"
     ]
    }
   ],
   "source": [
    "def max_subarray_prefix_sums(arr):\n",
    "    n = len(arr)\n",
    "    psum = [0] * n\n",
    "    for i in range(n):\n",
    "        psum[i] = psum[i - 1] + arr[i]\n",
    "    print(f\"prefix sums = {psum}\")\n",
    "    \n",
    "    # Now that we have prefix sums, we can think in terms of subarrays\n",
    "    # subarray[i...j] = psum[j] - psum[i-1]\n",
    "    # subarray[1...3] = psum[3] - psum[0]\n",
    "    # = -3 - (-2) => 2 - 3 => -1\n",
    "    # -5 + 6 - 2 => -5 + 4 => -1\n",
    "    # At any given stage, max subarray sum so far\n",
    "    # is current_elem - min_elem_seen_so_far\n",
    "    global_sum = -math.inf\n",
    "    min_elem = math.inf\n",
    "    for i in range(n):\n",
    "        min_elem = min(psum[i], min_elem)\n",
    "        global_sum = max(psum[i] - min_elem, global_sum)\n",
    "    return global_sum\n",
    "print(max_subarray_prefix_sums(input_arr))\n",
    "print(max_subarray_prefix_sums([-2, -1, -2, 1]))"
   ]
  },
  {
   "cell_type": "code",
   "execution_count": null,
   "metadata": {},
   "outputs": [],
   "source": []
  }
 ],
 "metadata": {
  "kernelspec": {
   "display_name": "Python 3",
   "language": "python",
   "name": "python3"
  },
  "language_info": {
   "codemirror_mode": {
    "name": "ipython",
    "version": 3
   },
   "file_extension": ".py",
   "mimetype": "text/x-python",
   "name": "python",
   "nbconvert_exporter": "python",
   "pygments_lexer": "ipython3",
   "version": "3.7.7"
  }
 },
 "nbformat": 4,
 "nbformat_minor": 4
}
